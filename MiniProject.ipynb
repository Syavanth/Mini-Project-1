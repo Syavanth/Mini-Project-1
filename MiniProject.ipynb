{
 "cells": [
  {
   "cell_type": "code",
   "execution_count": 1,
   "id": "b04db305-f1b4-4129-bc3f-11daac211329",
   "metadata": {},
   "outputs": [
    {
     "name": "stdout",
     "output_type": "stream",
     "text": [
      "   Unnamed: 0  Order ID                     Product  Quantity Ordered  \\\n",
      "0           0    295665          Macbook Pro Laptop                 1   \n",
      "1           1    295666          LG Washing Machine                 1   \n",
      "2           2    295667        USB-C Charging Cable                 1   \n",
      "3           3    295668            27in FHD Monitor                 1   \n",
      "4           4    295669        USB-C Charging Cable                 1   \n",
      "5           5    295670       AA Batteries (4-pack)                 1   \n",
      "6           6    295671        USB-C Charging Cable                 1   \n",
      "7           7    295672        USB-C Charging Cable                 2   \n",
      "8           8    295673  Bose SoundSport Headphones                 1   \n",
      "9           9    295674      AAA Batteries (4-pack)                 4   \n",
      "\n",
      "   Price Each           Order Date                           Purchase Address  \\\n",
      "0     1700.00  2019-12-30 00:01:00     136 Church St, New York City, NY 10001   \n",
      "1      600.00  2019-12-29 07:03:00        562 2nd St, New York City, NY 10001   \n",
      "2       11.95  2019-12-12 18:21:00       277 Main St, New York City, NY 10001   \n",
      "3      149.99  2019-12-22 15:13:00        410 6th St, San Francisco, CA 94016   \n",
      "4       11.95  2019-12-18 12:38:00              43 Hill St, Atlanta, GA 30301   \n",
      "5        3.84  2019-12-31 22:58:00  200 Jefferson St, New York City, NY 10001   \n",
      "6       11.95  2019-12-16 15:10:00            928 12th St, Portland, OR 97035   \n",
      "7       11.95  2019-12-13 09:29:00           813 Hickory St, Dallas, TX 75001   \n",
      "8       99.99  2019-12-15 23:26:00            718 Wilson St, Dallas, TX 75001   \n",
      "9        2.99  2019-12-28 11:51:00                77 7th St, Dallas, TX 75001   \n",
      "\n",
      "   Month    Sales            City  Hour  \n",
      "0     12  1700.00   New York City     0  \n",
      "1     12   600.00   New York City     7  \n",
      "2     12    11.95   New York City    18  \n",
      "3     12   149.99   San Francisco    15  \n",
      "4     12    11.95         Atlanta    12  \n",
      "5     12     3.84   New York City    22  \n",
      "6     12    11.95        Portland    15  \n",
      "7     12    23.90          Dallas     9  \n",
      "8     12    99.99          Dallas    23  \n",
      "9     12    11.96          Dallas    11  \n"
     ]
    }
   ],
   "source": [
    "import pandas as pd\n",
    "\n",
    "file_path = 'Sales Data.csv'  \n",
    "sales_data = pd.read_csv(file_path)\n",
    "\n",
    "print(sales_data.head(10))\n"
   ]
  },
  {
   "cell_type": "code",
   "execution_count": 3,
   "id": "07d39292-5322-4856-a6f5-ca8ae603e02f",
   "metadata": {},
   "outputs": [
    {
     "name": "stdout",
     "output_type": "stream",
     "text": [
      "Unnamed: 0          0\n",
      "Order ID            0\n",
      "Product             0\n",
      "Quantity Ordered    0\n",
      "Price Each          0\n",
      "Order Date          0\n",
      "Purchase Address    0\n",
      "Month               0\n",
      "Sales               0\n",
      "City                0\n",
      "Hour                0\n",
      "dtype: int64\n"
     ]
    }
   ],
   "source": [
    "null_values_count = sales_data.isnull().sum()\n",
    "print(null_values_count)\n"
   ]
  },
  {
   "cell_type": "code",
   "execution_count": 5,
   "id": "a973a83a-5086-4600-8858-dc62edd351a6",
   "metadata": {},
   "outputs": [
    {
     "name": "stdout",
     "output_type": "stream",
     "text": [
      "   Unnamed: 0  Order ID                     Product  Quantity Ordered  \\\n",
      "0           0    295665          Macbook Pro Laptop                 1   \n",
      "1           1    295666          LG Washing Machine                 1   \n",
      "2           2    295667        USB-C Charging Cable                 1   \n",
      "3           3    295668            27in FHD Monitor                 1   \n",
      "4           4    295669        USB-C Charging Cable                 1   \n",
      "5           5    295670       AA Batteries (4-pack)                 1   \n",
      "6           6    295671        USB-C Charging Cable                 1   \n",
      "7           7    295672        USB-C Charging Cable                 2   \n",
      "8           8    295673  Bose SoundSport Headphones                 1   \n",
      "9           9    295674      AAA Batteries (4-pack)                 4   \n",
      "\n",
      "   Price Each          Order Date                           Purchase Address  \\\n",
      "0     1700.00 2019-12-30 00:01:00     136 Church St, New York City, NY 10001   \n",
      "1      600.00 2019-12-29 07:03:00        562 2nd St, New York City, NY 10001   \n",
      "2       11.95 2019-12-12 18:21:00       277 Main St, New York City, NY 10001   \n",
      "3      149.99 2019-12-22 15:13:00        410 6th St, San Francisco, CA 94016   \n",
      "4       11.95 2019-12-18 12:38:00              43 Hill St, Atlanta, GA 30301   \n",
      "5        3.84 2019-12-31 22:58:00  200 Jefferson St, New York City, NY 10001   \n",
      "6       11.95 2019-12-16 15:10:00            928 12th St, Portland, OR 97035   \n",
      "7       11.95 2019-12-13 09:29:00           813 Hickory St, Dallas, TX 75001   \n",
      "8       99.99 2019-12-15 23:26:00            718 Wilson St, Dallas, TX 75001   \n",
      "9        2.99 2019-12-28 11:51:00                77 7th St, Dallas, TX 75001   \n",
      "\n",
      "   Month    Sales            City  Hour  \n",
      "0     12  1700.00   New York City     0  \n",
      "1     12   600.00   New York City     7  \n",
      "2     12    11.95   New York City    18  \n",
      "3     12   149.99   San Francisco    15  \n",
      "4     12    11.95         Atlanta    12  \n",
      "5     12     3.84   New York City    22  \n",
      "6     12    11.95        Portland    15  \n",
      "7     12    23.90          Dallas     9  \n",
      "8     12    99.99          Dallas    23  \n",
      "9     12    11.96          Dallas    11  \n"
     ]
    }
   ],
   "source": [
    "\n",
    "sales_data['Order Date'] = pd.to_datetime(sales_data['Order Date'])\n",
    "print(sales_data.head(10))\n"
   ]
  },
  {
   "cell_type": "code",
   "execution_count": 7,
   "id": "29b40fda-0590-449a-9660-37d1c44b3041",
   "metadata": {},
   "outputs": [
    {
     "name": "stdout",
     "output_type": "stream",
     "text": [
      "   Unnamed: 0  Order ID                     Product  Quantity Ordered  \\\n",
      "0           0    295665          Macbook Pro Laptop                 1   \n",
      "1           1    295666          LG Washing Machine                 1   \n",
      "2           2    295667        USB-C Charging Cable                 1   \n",
      "3           3    295668            27in FHD Monitor                 1   \n",
      "4           4    295669        USB-C Charging Cable                 1   \n",
      "5           5    295670       AA Batteries (4-pack)                 1   \n",
      "6           6    295671        USB-C Charging Cable                 1   \n",
      "7           7    295672        USB-C Charging Cable                 2   \n",
      "8           8    295673  Bose SoundSport Headphones                 1   \n",
      "9           9    295674      AAA Batteries (4-pack)                 4   \n",
      "\n",
      "   Price Each          Order Date                           Purchase Address  \\\n",
      "0     1700.00 2019-12-30 00:01:00     136 Church St, New York City, NY 10001   \n",
      "1      600.00 2019-12-29 07:03:00        562 2nd St, New York City, NY 10001   \n",
      "2       11.95 2019-12-12 18:21:00       277 Main St, New York City, NY 10001   \n",
      "3      149.99 2019-12-22 15:13:00        410 6th St, San Francisco, CA 94016   \n",
      "4       11.95 2019-12-18 12:38:00              43 Hill St, Atlanta, GA 30301   \n",
      "5        3.84 2019-12-31 22:58:00  200 Jefferson St, New York City, NY 10001   \n",
      "6       11.95 2019-12-16 15:10:00            928 12th St, Portland, OR 97035   \n",
      "7       11.95 2019-12-13 09:29:00           813 Hickory St, Dallas, TX 75001   \n",
      "8       99.99 2019-12-15 23:26:00            718 Wilson St, Dallas, TX 75001   \n",
      "9        2.99 2019-12-28 11:51:00                77 7th St, Dallas, TX 75001   \n",
      "\n",
      "      Month    Sales            City  Hour  \n",
      "0  December  1700.00   New York City     0  \n",
      "1  December   600.00   New York City     7  \n",
      "2  December    11.95   New York City    18  \n",
      "3  December   149.99   San Francisco    15  \n",
      "4  December    11.95         Atlanta    12  \n",
      "5  December     3.84   New York City    22  \n",
      "6  December    11.95        Portland    15  \n",
      "7  December    23.90          Dallas     9  \n",
      "8  December    99.99          Dallas    23  \n",
      "9  December    11.96          Dallas    11  \n"
     ]
    }
   ],
   "source": [
    "\n",
    "sales_data['Month'] = sales_data['Month'].apply(lambda x: pd.Timestamp(f'2024-{x:02d}-01').strftime('%B'))\n",
    "\n",
    "print(sales_data.head(10))\n"
   ]
  },
  {
   "cell_type": "code",
   "execution_count": 9,
   "id": "6fb6c605-8019-47c8-829e-2d0915684b46",
   "metadata": {},
   "outputs": [
    {
     "name": "stdout",
     "output_type": "stream",
     "text": [
      "   Unnamed: 0  Order ID                     Product  Quantity Ordered  \\\n",
      "0           0    295665          Macbook Pro Laptop                 1   \n",
      "1           1    295666          LG Washing Machine                 1   \n",
      "2           2    295667        USB-C Charging Cable                 1   \n",
      "3           3    295668            27in FHD Monitor                 1   \n",
      "4           4    295669        USB-C Charging Cable                 1   \n",
      "5           5    295670       AA Batteries (4-pack)                 1   \n",
      "6           6    295671        USB-C Charging Cable                 1   \n",
      "7           7    295672        USB-C Charging Cable                 2   \n",
      "8           8    295673  Bose SoundSport Headphones                 1   \n",
      "9           9    295674      AAA Batteries (4-pack)                 4   \n",
      "\n",
      "   Price Each          Order Date                           Purchase Address  \\\n",
      "0     1700.00 2019-12-30 00:01:00     136 Church St, New York City, NY 10001   \n",
      "1      600.00 2019-12-29 07:03:00        562 2nd St, New York City, NY 10001   \n",
      "2       11.95 2019-12-12 18:21:00       277 Main St, New York City, NY 10001   \n",
      "3      149.99 2019-12-22 15:13:00        410 6th St, San Francisco, CA 94016   \n",
      "4       11.95 2019-12-18 12:38:00              43 Hill St, Atlanta, GA 30301   \n",
      "5        3.84 2019-12-31 22:58:00  200 Jefferson St, New York City, NY 10001   \n",
      "6       11.95 2019-12-16 15:10:00            928 12th St, Portland, OR 97035   \n",
      "7       11.95 2019-12-13 09:29:00           813 Hickory St, Dallas, TX 75001   \n",
      "8       99.99 2019-12-15 23:26:00            718 Wilson St, Dallas, TX 75001   \n",
      "9        2.99 2019-12-28 11:51:00                77 7th St, Dallas, TX 75001   \n",
      "\n",
      "      Month    Sales            City  \n",
      "0  December  1700.00   New York City  \n",
      "1  December   600.00   New York City  \n",
      "2  December    11.95   New York City  \n",
      "3  December   149.99   San Francisco  \n",
      "4  December    11.95         Atlanta  \n",
      "5  December     3.84   New York City  \n",
      "6  December    11.95        Portland  \n",
      "7  December    23.90          Dallas  \n",
      "8  December    99.99          Dallas  \n",
      "9  December    11.96          Dallas  \n"
     ]
    }
   ],
   "source": [
    "sales_data.drop(columns=['Hour'], inplace=True)\n",
    "\n",
    "print(sales_data.head(10))"
   ]
  },
  {
   "cell_type": "code",
   "execution_count": 11,
   "id": "6c4adf01-124f-47b8-a2f8-79bdec3a6e1b",
   "metadata": {},
   "outputs": [
    {
     "name": "stdout",
     "output_type": "stream",
     "text": [
      "Total sales of iPhone product: 4794300.0\n"
     ]
    }
   ],
   "source": [
    "\n",
    "iphone_sales = sales_data[sales_data['Product'] == 'iPhone']['Sales'].sum()\n",
    "print(f'Total sales of iPhone product: {iphone_sales}')\n"
   ]
  },
  {
   "cell_type": "code",
   "execution_count": 13,
   "id": "35c830cd-1b35-4f72-86ae-effd88d7c2fc",
   "metadata": {},
   "outputs": [
    {
     "name": "stdout",
     "output_type": "stream",
     "text": [
      "Product\n",
      "Macbook Pro Laptop        1093100.00\n",
      "iPhone                     634200.00\n",
      "ThinkPad Laptop            538994.61\n",
      "Google Phone               429000.00\n",
      "27in 4K Gaming Monitor     336951.36\n",
      "Name: Sales, dtype: float64\n"
     ]
    }
   ],
   "source": [
    "\n",
    "december_sales = sales_data[sales_data['Month'] == 'December']\n",
    "top_5_products_december = december_sales.groupby('Product')['Sales'].sum().nlargest(5)\n",
    "print(top_5_products_december)\n"
   ]
  },
  {
   "cell_type": "code",
   "execution_count": 15,
   "id": "cc086812-6413-4196-ad55-50ce0902ee2a",
   "metadata": {},
   "outputs": [
    {
     "name": "stdout",
     "output_type": "stream",
     "text": [
      "Month                           April     August    December   February  \\\n",
      "Product                                                                   \n",
      "20in Monitor                 43226.07   28707.39    62584.31   27057.54   \n",
      "27in 4K Gaming Monitor      220734.34  171595.60   336951.36  166525.73   \n",
      "27in FHD Monitor            110392.64   73645.09   144290.38   71245.25   \n",
      "34in Ultrawide Monitor      248513.46  144396.20   322611.51  158835.82   \n",
      "AA Batteries (4-pack)        10832.64    7019.52    14300.16    6662.40   \n",
      "AAA Batteries (4-pack)        8787.61    6042.79    12680.59    5896.28   \n",
      "Apple Airpods Headphones    227850.00  151350.00   311400.00  151800.00   \n",
      "Bose SoundSport Headphones  128687.13   88091.19   182381.76   84091.59   \n",
      "Flatscreen TV               138000.00   99300.00   199800.00   93900.00   \n",
      "Google Phone                348000.00  216600.00   429000.00  228600.00   \n",
      "LG Dryer                     46800.00   27600.00    51600.00   22800.00   \n",
      "LG Washing Machine           36600.00   28800.00    48000.00   24000.00   \n",
      "Lightning Charging Cable     35476.35   21572.85    46150.65   22410.05   \n",
      "Macbook Pro Laptop          771800.00  508300.00  1093100.00  469200.00   \n",
      "ThinkPad Laptop             389996.10  273997.26   538994.61  274997.25   \n",
      "USB-C Charging Cable         27114.55   17470.90    38837.50   19765.30   \n",
      "Vareebadd Phone              88000.00   57200.00   113600.00   51600.00   \n",
      "Wired Headphones             24759.35   15479.09    32960.51   15335.21   \n",
      "iPhone                      485100.00  307300.00   634200.00  307300.00   \n",
      "\n",
      "Month                         January       July       June      March  \\\n",
      "Product                                                                  \n",
      "20in Monitor                 23977.82   35966.73   35416.78   35856.74   \n",
      "27in 4K Gaming Monitor      122066.87  188365.17  175885.49  186805.21   \n",
      "27in FHD Monitor             63295.78   91043.93   85044.33   91193.92   \n",
      "34in Ultrawide Monitor      119316.86  175555.38  172895.45  198354.78   \n",
      "AA Batteries (4-pack)         5468.16    7952.64    8048.64    8509.44   \n",
      "AAA Batteries (4-pack)        4784.00    7071.35    6464.38    7412.21   \n",
      "Apple Airpods Headphones    122700.00  183000.00  175050.00  198300.00   \n",
      "Bose SoundSport Headphones   66193.38  105989.40   98290.17  119788.02   \n",
      "Flatscreen TV                73200.00  119700.00  110100.00  108600.00   \n",
      "Google Phone                191400.00  246600.00  234600.00  277800.00   \n",
      "LG Dryer                     23400.00   33000.00   25800.00   29400.00   \n",
      "LG Washing Machine           25200.00   31200.00   33000.00   38400.00   \n",
      "Lightning Charging Cable     17267.25   27074.45   25220.65   28001.35   \n",
      "Macbook Pro Laptop          399500.00  625600.00  605200.00  644300.00   \n",
      "ThinkPad Laptop             218997.81  318996.81  313996.86  344996.55   \n",
      "USB-C Charging Cable         15379.65   22095.55   20016.25   23230.80   \n",
      "Vareebadd Phone              50400.00   58400.00   62000.00   69600.00   \n",
      "Wired Headphones             13009.15   18764.35   17673.26   19951.36   \n",
      "iPhone                      266700.00  351400.00  373100.00  376600.00   \n",
      "\n",
      "Month                             May   November    October  September  \n",
      "Product                                                                 \n",
      "20in Monitor                 37506.59   46195.80   47185.71   30467.23  \n",
      "27in 4K Gaming Monitor      211374.58  224244.25  281962.77  148586.19  \n",
      "27in FHD Monitor            103343.11  107842.81  118642.09   72445.17  \n",
      "34in Ultrawide Monitor      206714.56  209374.49  254973.29  144016.21  \n",
      "AA Batteries (4-pack)         9154.56   10080.00   11289.60    6800.64  \n",
      "AAA Batteries (4-pack)        8751.73    9044.75   10055.37    5749.77  \n",
      "Apple Airpods Headphones    204750.00  226950.00  250650.00  145350.00  \n",
      "Bose SoundSport Headphones  117588.24  125187.48  146485.35   82791.72  \n",
      "Flatscreen TV               119700.00  138000.00  157200.00   88200.00  \n",
      "Google Phone                288000.00  295800.00  358200.00  204600.00  \n",
      "LG Dryer                     45600.00   33600.00   30000.00   18000.00  \n",
      "LG Washing Machine           38400.00   31800.00   36600.00   27600.00  \n",
      "Lightning Charging Cable     31021.25   33039.50   38451.40   21408.40  \n",
      "Macbook Pro Laptop          790500.00  748000.00  892500.00  489600.00  \n",
      "ThinkPad Laptop             370996.29  373996.26  460995.39  248997.51  \n",
      "USB-C Charging Cable         24712.60   26959.20   31870.65   19048.30  \n",
      "Vareebadd Phone              74000.00   70800.00   81200.00   50400.00  \n",
      "Wired Headphones             22493.24   23188.66   27265.26   15598.99  \n",
      "iPhone                      448000.00  465500.00  501200.00  277900.00  \n"
     ]
    }
   ],
   "source": [
    "\n",
    "pivot_table = sales_data.pivot_table(values='Sales', index='Product', columns='Month', aggfunc='sum')\n",
    "print(pivot_table)\n"
   ]
  },
  {
   "cell_type": "code",
   "execution_count": 17,
   "id": "6fbf29bc-920e-4480-810b-37ca38d9f3fd",
   "metadata": {},
   "outputs": [
    {
     "name": "stdout",
     "output_type": "stream",
     "text": [
      "Day with the highest sales: 2019-12-04 with sales amount: 166727.69\n"
     ]
    }
   ],
   "source": [
    "\n",
    "sales_data['Order Date'] = sales_data['Order Date'].dt.date\n",
    "\n",
    "daily_sales = sales_data.groupby('Order Date')['Sales'].sum()\n",
    "\n",
    "highest_sales_day = daily_sales.idxmax()\n",
    "highest_sales_amount = daily_sales.max()\n",
    "print(f'Day with the highest sales: {highest_sales_day} with sales amount: {highest_sales_amount}')\n"
   ]
  },
  {
   "cell_type": "code",
   "execution_count": 19,
   "id": "295abdf5-2919-491c-ba99-47045e914f96",
   "metadata": {},
   "outputs": [
    {
     "name": "stdout",
     "output_type": "stream",
     "text": [
      "Product\n",
      "AAA Batteries (4-pack)      31017\n",
      "AA Batteries (4-pack)       27635\n",
      "USB-C Charging Cable        23975\n",
      "Lightning Charging Cable    23217\n",
      "Wired Headphones            20557\n",
      "Name: Quantity Ordered, dtype: int64\n"
     ]
    }
   ],
   "source": [
    "\n",
    "quantity_sold = sales_data.groupby('Product')['Quantity Ordered'].sum()\n",
    "\n",
    "top_5_products_quantity = quantity_sold.nlargest(5)\n",
    "print(top_5_products_quantity)\n"
   ]
  },
  {
   "cell_type": "code",
   "execution_count": 21,
   "id": "6b32cead-ccf2-4b00-87ea-26b27ce3767d",
   "metadata": {},
   "outputs": [
    {
     "data": {
      "image/png": "[encoded data removed]",
      "text/plain": [
       "<Figure size 1000x600 with 1 Axes>"
      ]
     },
     "metadata": {},
     "output_type": "display_data"
    }
   ],
   "source": [
    "import matplotlib.pyplot as plt\n",
    "\n",
    "city_sales = sales_data.groupby('City')['Sales'].sum()\n",
    "\n",
    "city_sales.plot(kind='bar', figsize=(10, 6))\n",
    "plt.title('Total Sales by Cities')\n",
    "plt.xlabel('City')\n",
    "plt.ylabel('Total Sales')\n",
    "plt.show()\n"
   ]
  },
  {
   "cell_type": "code",
   "execution_count": 23,
   "id": "f07456c0-b356-4806-afbd-6e6b04a3548b",
   "metadata": {},
   "outputs": [
    {
     "name": "stdout",
     "output_type": "stream",
     "text": [
      "   Unnamed: 0  Order ID                     Product  Quantity Ordered  \\\n",
      "0           0    295665          Macbook Pro Laptop                 1   \n",
      "1           1    295666          LG Washing Machine                 1   \n",
      "2           2    295667        USB-C Charging Cable                 1   \n",
      "3           3    295668            27in FHD Monitor                 1   \n",
      "4           4    295669        USB-C Charging Cable                 1   \n",
      "5           5    295670       AA Batteries (4-pack)                 1   \n",
      "6           6    295671        USB-C Charging Cable                 1   \n",
      "7           7    295672        USB-C Charging Cable                 2   \n",
      "8           8    295673  Bose SoundSport Headphones                 1   \n",
      "9           9    295674      AAA Batteries (4-pack)                 4   \n",
      "\n",
      "   Price Each  Order Date                           Purchase Address  \\\n",
      "0     1700.00  2019-12-30     136 Church St, New York City, NY 10001   \n",
      "1      600.00  2019-12-29        562 2nd St, New York City, NY 10001   \n",
      "2       11.95  2019-12-12       277 Main St, New York City, NY 10001   \n",
      "3      149.99  2019-12-22        410 6th St, San Francisco, CA 94016   \n",
      "4       11.95  2019-12-18              43 Hill St, Atlanta, GA 30301   \n",
      "5        3.84  2019-12-31  200 Jefferson St, New York City, NY 10001   \n",
      "6       11.95  2019-12-16            928 12th St, Portland, OR 97035   \n",
      "7       11.95  2019-12-13           813 Hickory St, Dallas, TX 75001   \n",
      "8       99.99  2019-12-15            718 Wilson St, Dallas, TX 75001   \n",
      "9        2.99  2019-12-28                77 7th St, Dallas, TX 75001   \n",
      "\n",
      "      Month    Sales            City City_Codes  \n",
      "0  December  1700.00   New York City        NaN  \n",
      "1  December   600.00   New York City        NaN  \n",
      "2  December    11.95   New York City        NaN  \n",
      "3  December   149.99   San Francisco        NaN  \n",
      "4  December    11.95         Atlanta        NaN  \n",
      "5  December     3.84   New York City        NaN  \n",
      "6  December    11.95        Portland        NaN  \n",
      "7  December    23.90          Dallas        NaN  \n",
      "8  December    99.99          Dallas        NaN  \n",
      "9  December    11.96          Dallas        NaN  \n"
     ]
    }
   ],
   "source": [
    "\n",
    "city_codes = {\n",
    "    'Atlanta': 'ATL', 'Austin': 'AU', 'Boston': 'BO', 'Dallas': 'DA',\n",
    "    'Los Angeles': 'LA', 'New York City': 'NY', 'Portland': 'PORT',\n",
    "    'San Francisco': 'SF', 'Seattle': 'SA'\n",
    "}\n",
    "\n",
    "\n",
    "sales_data['City_Codes'] = sales_data['City'].map(city_codes)\n",
    "\n",
    "\n",
    "print(sales_data.head(10))\n"
   ]
  },
  {
   "cell_type": "code",
   "execution_count": 25,
   "id": "a21d0786-53d7-4b9d-8235-aa457bd183a8",
   "metadata": {},
   "outputs": [
    {
     "name": "stdout",
     "output_type": "stream",
     "text": [
      "City           Order Date\n",
      "Atlanta        2019-01-31     149159.54\n",
      "               2019-07-31    1363261.52\n",
      "               2020-01-31    1283077.52\n",
      "Austin         2019-01-31      87587.08\n",
      "               2019-07-31     891037.70\n",
      "               2020-01-31     840956.97\n",
      "Boston         2019-01-31     199761.60\n",
      "               2019-07-31    1744687.96\n",
      "               2020-01-31    1717192.45\n",
      "Dallas         2019-01-31     141747.56\n",
      "               2019-07-31    1328072.56\n",
      "               2020-01-31    1298155.28\n",
      "Los Angeles    2019-01-31     287601.91\n",
      "               2019-07-31    2667810.83\n",
      "               2020-01-31    2497158.06\n",
      "New York City  2019-01-31     259250.67\n",
      "               2019-07-31    2238073.29\n",
      "               2020-01-31    2166993.47\n",
      "Portland       2019-01-31     114832.57\n",
      "               2019-07-31    1154348.98\n",
      "               2020-01-31    1051309.06\n",
      "San Francisco  2019-01-31     433103.45\n",
      "               2019-07-31    4085960.22\n",
      "               2020-01-31    3743140.24\n",
      "Seattle        2019-01-31     140542.06\n",
      "               2019-07-31    1304724.75\n",
      "               2020-01-31    1302488.67\n",
      "Name: Sales, dtype: float64\n"
     ]
    },
    {
     "name": "stderr",
     "output_type": "stream",
     "text": [
      "C:\\Users\\syava\\AppData\\Local\\Temp\\ipykernel_8052\\3594096799.py:5: FutureWarning: 'M' is deprecated and will be removed in a future version, please use 'ME' instead.\n",
      "  resampled_sales = sales_data.groupby('City')['Sales'].resample('6M').sum()\n"
     ]
    }
   ],
   "source": [
    "\n",
    "sales_data['Order Date'] = pd.to_datetime(sales_data['Order Date'])\n",
    "sales_data.set_index('Order Date', inplace=True)\n",
    "\n",
    "\n",
    "resampled_sales = sales_data.groupby('City')['Sales'].resample('6M').sum()\n",
    "\n",
    "\n",
    "print(resampled_sales)\n"
   ]
  },
  {
   "cell_type": "code",
   "execution_count": null,
   "id": "3f50d87e-0540-46b1-8d24-8c8c7a0d2882",
   "metadata": {},
   "outputs": [],
   "source": []
  }
 ],
 "metadata": {
  "kernelspec": {
   "display_name": "Python 3 (ipykernel)",
   "language": "python",
   "name": "python3"
  },
  "language_info": {
   "codemirror_mode": {
    "name": "ipython",
    "version": 3
   },
   "file_extension": ".py",
   "mimetype": "text/x-python",
   "name": "python",
   "nbconvert_exporter": "python",
   "pygments_lexer": "ipython3",
   "version": "3.12.4"
  }
 },
 "nbformat": 4,
 "nbformat_minor": 5
}
